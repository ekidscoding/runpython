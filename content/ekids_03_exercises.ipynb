{
 "cells": [
  {
   "cell_type": "markdown",
   "id": "a7dce9a9",
   "metadata": {},
   "source": [
    "```\n",
    "ПРОПУЩЕНЕ_СЛОВО double(x):\n",
    "    y = x + x\n",
    "    return y\n",
    "```\n",
    "Що повинно стояти замість ПРОПУЩЕНЕ_СЛОВО?\n",
    "\n",
    "<hr />\n",
    "\n",
    "<details>\n",
    "<summary>Підказка</summary>\n",
    "Від англійського слова \"визначати\", define\n",
    "</details>\n",
    "\n",
    "<hr />\n",
    "\n",
    "<details>\n",
    "<summary>Відповідь</summary>\n",
    "\n",
    "```\n",
    "def\n",
    "```\n",
    "</details>"
   ]
  },
  {
   "cell_type": "markdown",
   "id": "b5868fe3",
   "metadata": {},
   "source": [
    "```\n",
    "Def double(x):\n",
    "    y = x + x\n",
    "    Return y\n",
    "```\n",
    "Що не так з кодом наведеним вище?\n",
    "\n",
    "<hr />\n",
    "\n",
    "<details>\n",
    "<summary>Підказка</summary>\n",
    "Python відрізняє малі та великі літери\n",
    "</details>\n",
    "\n",
    "<hr />\n",
    "\n",
    "<details>\n",
    "<summary>Відповідь</summary>\n",
    "\n",
    "```\n",
    "Має бути\n",
    "def а не Def\n",
    "return а не Return\n",
    "```\n",
    "</details>"
   ]
  }
 ],
 "metadata": {
  "language_info": {
   "name": "python"
  }
 },
 "nbformat": 4,
 "nbformat_minor": 5
}
