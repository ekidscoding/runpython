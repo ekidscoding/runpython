{
  "metadata": {
    "kernelspec": {
      "name": "python",
      "display_name": "Python (Pyodide)",
      "language": "python"
    },
    "language_info": {
      "codemirror_mode": {
        "name": "python",
        "version": 3
      },
      "file_extension": ".py",
      "mimetype": "text/x-python",
      "name": "python",
      "nbconvert_exporter": "python",
      "pygments_lexer": "ipython3",
      "version": "3.8"
    }
  },
  "nbformat_minor": 5,
  "nbformat": 4,
  "cells": [
    {
      "id": "7a041e1d-3370-4735-a54d-a2c55e70d1a8",
      "cell_type": "markdown",
      "source": "# Python. Урок 1\n\n## Як працювати із середовищем?\n\n### Мова інтерфейсу\n\n![title](\"data/001_lang_selector.png\")\n\n### Типи клітинок",
      "metadata": {},
      "attachments": {}
    },
    {
      "id": "f1869b9a-58cc-4227-b64f-bf6de144245c",
      "cell_type": "code",
      "source": "print(\"Hello\")",
      "metadata": {
        "trusted": true
      },
      "outputs": [],
      "execution_count": null
    },
    {
      "id": "3f7cc513-e2b0-4b8c-9171-bab2161e009d",
      "cell_type": "code",
      "source": "",
      "metadata": {
        "trusted": true
      },
      "outputs": [],
      "execution_count": null
    }
  ]
}