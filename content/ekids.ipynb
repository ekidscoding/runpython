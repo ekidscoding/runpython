{
  "cells": [
    {
      "attachments": {},
      "cell_type": "markdown",
      "id": "7a041e1d-3370-4735-a54d-a2c55e70d1a8",
      "metadata": {},
      "source": [
        "# Python. Урок 1\n",
        "\n",
        "## Як працювати із середовищем?\n",
        "\n",
        "### Мова інтерфейсу\n",
        "\n",
        "![change_language_instruction](data/001_lang_selector.png)\n",
        "\n",
        "### Типи клітинок\n",
        "\n",
        "![cell_types](data/002_cell_types.png)"
      ]
    },
    {
      "cell_type": "code",
      "execution_count": null,
      "id": "f1869b9a-58cc-4227-b64f-bf6de144245c",
      "metadata": {
        "trusted": true
      },
      "outputs": [],
      "source": [
        "print(\"Hello\")"
      ]
    },
    {
      "cell_type": "code",
      "execution_count": null,
      "id": "3f7cc513-e2b0-4b8c-9171-bab2161e009d",
      "metadata": {
        "trusted": true
      },
      "outputs": [],
      "source": []
    }
  ],
  "metadata": {
    "kernelspec": {
      "display_name": "Python (Pyodide)",
      "language": "python",
      "name": "python"
    },
    "language_info": {
      "codemirror_mode": {
        "name": "python",
        "version": 3
      },
      "file_extension": ".py",
      "mimetype": "text/x-python",
      "name": "python",
      "nbconvert_exporter": "python",
      "pygments_lexer": "ipython3",
      "version": "3.8"
    }
  },
  "nbformat": 4,
  "nbformat_minor": 5
}
